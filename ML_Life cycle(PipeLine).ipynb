{
 "cells": [
  {
   "cell_type": "code",
   "execution_count": 1,
   "id": "0ce4a866",
   "metadata": {},
   "outputs": [],
   "source": [
    "import pandas as pd\n",
    "from sklearn.model_selection import train_test_split, cross_val_score\n",
    "from sklearn.ensemble import RandomForestClassifier\n",
    "from sklearn.metrics import accuracy_score\n",
    "from hyperopt import fmin, tpe, hp\n",
    "from sklearn.pipeline import Pipeline\n",
    "from sklearn.compose import ColumnTransformer\n",
    "from sklearn.preprocessing import StandardScaler\n",
    "from sklearn.impute import SimpleImputer"
   ]
  },
  {
   "cell_type": "code",
   "execution_count": 6,
   "id": "2cd49eb8",
   "metadata": {},
   "outputs": [],
   "source": [
    "# file_path= \"C:\\\\Users\\\\rahul\\\\Desktop\\\\DSMP 2.0\\MlOp's\\Introduction to github\\\\ML_life cycle\\\\Iris.csv\"\n",
    "# 1. Reading data from CSV\n",
    "def read_csv(file_path):\n",
    "    return pd.read_csv(file_path)\n",
    "# 2. Creating fetures:\n",
    "def create_features(data):\n",
    "    # No features creation for this example\n",
    "    return data\n",
    "# 3. Training a classifire model\n",
    "def train_classifire(data):\n",
    "    x_train, x_test, y_train, y_test= train_test_split(x, y, test_size=0.2 , random_state=42)\n",
    "    \n",
    "    model = RandomForestClassifier()\n",
    "    model.fit(x_train, y_train)\n",
    "    \n",
    "    y_pred = model.predictq(x_test)\n",
    "    accuracy = accuracy_score(y_test, y_pred)\n",
    "    \n",
    "    return model, accuracy\n",
    "# 4. Hyperparameter tuning\n",
    "\n",
    "def objective(params):\n",
    "    model = RandomForestClassifier(**params)\n",
    "    score = cross_val_score(model, x,y,cv=5).mean()\n",
    "    return -score # minimize negative accuracy\n",
    "# 5. Evaluating the model on the test data set\n"
   ]
  },
  {
   "cell_type": "code",
   "execution_count": null,
   "id": "eeb8b4ea",
   "metadata": {},
   "outputs": [],
   "source": []
  }
 ],
 "metadata": {
  "kernelspec": {
   "display_name": "Python 3 (ipykernel)",
   "language": "python",
   "name": "python3"
  },
  "language_info": {
   "codemirror_mode": {
    "name": "ipython",
    "version": 3
   },
   "file_extension": ".py",
   "mimetype": "text/x-python",
   "name": "python",
   "nbconvert_exporter": "python",
   "pygments_lexer": "ipython3",
   "version": "3.11.5"
  }
 },
 "nbformat": 4,
 "nbformat_minor": 5
}
